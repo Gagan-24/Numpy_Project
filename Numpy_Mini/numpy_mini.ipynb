{
  "nbformat": 4,
  "nbformat_minor": 0,
  "metadata": {
    "colab": {
      "provenance": []
    },
    "kernelspec": {
      "name": "python3",
      "display_name": "Python 3"
    },
    "language_info": {
      "name": "python"
    }
  },
  "cells": [
    {
      "cell_type": "code",
      "source": [
        "import numpy as np"
      ],
      "metadata": {
        "id": "f5Z6eIfSWk1Q"
      },
      "execution_count": 1,
      "outputs": []
    },
    {
      "cell_type": "markdown",
      "source": [
        "Mini Project"
      ],
      "metadata": {
        "id": "DxHOILJ_XHLz"
      }
    },
    {
      "cell_type": "code",
      "execution_count": 2,
      "metadata": {
        "colab": {
          "base_uri": "https://localhost:8080/"
        },
        "id": "5LoyCLmuWhqI",
        "outputId": "f1fb8d0f-c6c0-4325-d075-92ab00b7831c"
      },
      "outputs": [
        {
          "output_type": "stream",
          "name": "stdout",
          "text": [
            "[[80 60 70]\n",
            " [65 75 85]\n",
            " [87 68 88]]\n"
          ]
        }
      ],
      "source": [
        "#1. **Data Creation:**Create suitable arrays to represent students, subjects, and their marks.\n",
        "# students=np.array([\"A\",\"B\",\"C\"])\n",
        "# subjects=np.array([\"Math\",\"Eng\",\"Sci\"])\n",
        "marks=np.array([[80,60,70],\n",
        "               [65,75,85],\n",
        "                [87,68,88]])\n",
        "# print(students)\n",
        "# print(subjects)\n",
        "print(marks)\n"
      ]
    },
    {
      "cell_type": "code",
      "source": [
        "#2. **Data Exploration:**Explore the properties of these arrays — such as their dimensions, size, and structure.\n",
        "print(\"The size of the array is\",marks.size)\n",
        "print(\"The dimension of the array is\",marks.ndim)"
      ],
      "metadata": {
        "colab": {
          "base_uri": "https://localhost:8080/"
        },
        "id": "25Jobi8eWtkg",
        "outputId": "dbe96956-12e5-4d85-885a-ce4a96329d9d"
      },
      "execution_count": 3,
      "outputs": [
        {
          "output_type": "stream",
          "name": "stdout",
          "text": [
            "The size of the array is 9\n",
            "The dimension of the array is 2\n"
          ]
        }
      ]
    },
    {
      "cell_type": "code",
      "source": [
        "#3.**Data Transformation:**Perform necessary reshaping and reorganization of the data to suit various operations.\n",
        "print(marks.reshape(-1)) #This converts the array into 1D array\n",
        "marks.reshape(3,3) #This is used to transform the 1D array back into 2D format"
      ],
      "metadata": {
        "colab": {
          "base_uri": "https://localhost:8080/"
        },
        "id": "FZCbTEjQWxKL",
        "outputId": "aee60d48-daf2-4b14-e507-c22c197bff2f"
      },
      "execution_count": 4,
      "outputs": [
        {
          "output_type": "stream",
          "name": "stdout",
          "text": [
            "[80 60 70 65 75 85 87 68 88]\n"
          ]
        },
        {
          "output_type": "execute_result",
          "data": {
            "text/plain": [
              "array([[80, 60, 70],\n",
              "       [65, 75, 85],\n",
              "       [87, 68, 88]])"
            ]
          },
          "metadata": {},
          "execution_count": 4
        }
      ]
    },
    {
      "cell_type": "code",
      "source": [
        "#4.**Data Combination:**Merge or split arrays to simulate adding new students, new subjects, or reorganizing the dataset.\n",
        "#Here a new data is added into the array and arranged using vertical stack\n",
        "new_st=np.array([85,74,79])\n",
        "marks=np.vstack((marks,new_st))\n",
        "marks"
      ],
      "metadata": {
        "colab": {
          "base_uri": "https://localhost:8080/"
        },
        "id": "AHBGkCt-WzcM",
        "outputId": "6ec86851-05e5-49eb-d0c4-edd7a91a0d02"
      },
      "execution_count": 5,
      "outputs": [
        {
          "output_type": "execute_result",
          "data": {
            "text/plain": [
              "array([[80, 60, 70],\n",
              "       [65, 75, 85],\n",
              "       [87, 68, 88],\n",
              "       [85, 74, 79]])"
            ]
          },
          "metadata": {},
          "execution_count": 5
        }
      ]
    },
    {
      "cell_type": "code",
      "source": [
        "#5. **Data Modification:**Apply operations to update marks, remove data, or identify unique information.\n",
        "# Data present in the array is modified and the value is changed\n",
        "marks[1,1]=90\n",
        "marks\n"
      ],
      "metadata": {
        "colab": {
          "base_uri": "https://localhost:8080/"
        },
        "id": "nyLdcq8PW2HY",
        "outputId": "7fb6c78f-4833-4e88-ef3f-f6e09c920e95"
      },
      "execution_count": 6,
      "outputs": [
        {
          "output_type": "execute_result",
          "data": {
            "text/plain": [
              "array([[80, 60, 70],\n",
              "       [65, 90, 85],\n",
              "       [87, 68, 88],\n",
              "       [85, 74, 79]])"
            ]
          },
          "metadata": {},
          "execution_count": 6
        }
      ]
    },
    {
      "cell_type": "code",
      "source": [
        "#6.**Data Type Handling:**Demonstrate how the same data can exist in different data types and how changes affect results.\n",
        "marks_float = marks.astype(float)\n",
        "marks_float\n",
        "marks.dtype"
      ],
      "metadata": {
        "colab": {
          "base_uri": "https://localhost:8080/"
        },
        "id": "ibrevL6_W9Fx",
        "outputId": "2392b1d3-a762-49d6-fcd6-073027cf4c2f"
      },
      "execution_count": 7,
      "outputs": [
        {
          "output_type": "execute_result",
          "data": {
            "text/plain": [
              "dtype('int64')"
            ]
          },
          "metadata": {},
          "execution_count": 7
        }
      ]
    },
    {
      "cell_type": "code",
      "source": [
        "#7. **Copy and View Behavior:**Show the difference between creating a full copy of an array and creating a view of the same data.\n",
        "marks1=marks\n",
        "view1=marks1.view()\n",
        "view1[0,0]=100\n",
        "view1\n",
        "\n",
        "copy1=marks.copy()\n",
        "copy1[0,0]=100\n",
        "copy1"
      ],
      "metadata": {
        "colab": {
          "base_uri": "https://localhost:8080/"
        },
        "id": "nV3c8_pRW_OQ",
        "outputId": "ea9e045d-6636-4cfc-fc72-97ecfcde8558"
      },
      "execution_count": 8,
      "outputs": [
        {
          "output_type": "execute_result",
          "data": {
            "text/plain": [
              "array([[100,  60,  70],\n",
              "       [ 65,  90,  85],\n",
              "       [ 87,  68,  88],\n",
              "       [ 85,  74,  79]])"
            ]
          },
          "metadata": {},
          "execution_count": 8
        }
      ]
    },
    {
      "cell_type": "code",
      "source": [],
      "metadata": {
        "id": "ZNXGtcKQXA_O"
      },
      "execution_count": null,
      "outputs": []
    }
  ]
}